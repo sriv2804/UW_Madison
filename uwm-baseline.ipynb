{
 "cells": [
  {
   "cell_type": "markdown",
   "id": "5830c9b8",
   "metadata": {
    "papermill": {
     "duration": 0.010444,
     "end_time": "2022-06-28T03:07:26.082017",
     "exception": false,
     "start_time": "2022-06-28T03:07:26.071573",
     "status": "completed"
    },
    "tags": []
   },
   "source": [
    "# Libraries"
   ]
  },
  {
   "cell_type": "code",
   "execution_count": 1,
   "id": "69b7928d",
   "metadata": {
    "execution": {
     "iopub.execute_input": "2022-06-28T03:07:26.119311Z",
     "iopub.status.busy": "2022-06-28T03:07:26.118347Z",
     "iopub.status.idle": "2022-06-28T03:07:51.945672Z",
     "shell.execute_reply": "2022-06-28T03:07:51.944509Z"
    },
    "papermill": {
     "duration": 25.845286,
     "end_time": "2022-06-28T03:07:51.948152",
     "exception": false,
     "start_time": "2022-06-28T03:07:26.102866",
     "status": "completed"
    },
    "tags": []
   },
   "outputs": [
    {
     "name": "stdout",
     "output_type": "stream",
     "text": [
      "Collecting timm\r\n",
      "  Downloading timm-0.5.4-py3-none-any.whl (431 kB)\r\n",
      "\u001b[2K     \u001b[90m━━━━━━━━━━━━━━━━━━━━━━━━━━━━━━━━━━━━━━━\u001b[0m \u001b[32m431.5/431.5 kB\u001b[0m \u001b[31m2.2 MB/s\u001b[0m eta \u001b[36m0:00:00\u001b[0m\r\n",
      "\u001b[?25hRequirement already satisfied: torchvision in /opt/conda/lib/python3.7/site-packages (from timm) (0.12.0)\r\n",
      "Requirement already satisfied: torch>=1.4 in /opt/conda/lib/python3.7/site-packages (from timm) (1.11.0)\r\n",
      "Requirement already satisfied: typing-extensions in /opt/conda/lib/python3.7/site-packages (from torch>=1.4->timm) (4.1.1)\r\n",
      "Requirement already satisfied: pillow!=8.3.*,>=5.3.0 in /opt/conda/lib/python3.7/site-packages (from torchvision->timm) (9.1.1)\r\n",
      "Requirement already satisfied: numpy in /opt/conda/lib/python3.7/site-packages (from torchvision->timm) (1.21.6)\r\n",
      "Requirement already satisfied: requests in /opt/conda/lib/python3.7/site-packages (from torchvision->timm) (2.27.1)\r\n",
      "Requirement already satisfied: idna<4,>=2.5 in /opt/conda/lib/python3.7/site-packages (from requests->torchvision->timm) (3.3)\r\n",
      "Requirement already satisfied: charset-normalizer~=2.0.0 in /opt/conda/lib/python3.7/site-packages (from requests->torchvision->timm) (2.0.12)\r\n",
      "Requirement already satisfied: certifi>=2017.4.17 in /opt/conda/lib/python3.7/site-packages (from requests->torchvision->timm) (2022.6.15)\r\n",
      "Requirement already satisfied: urllib3<1.27,>=1.21.1 in /opt/conda/lib/python3.7/site-packages (from requests->torchvision->timm) (1.26.9)\r\n",
      "Installing collected packages: timm\r\n",
      "Successfully installed timm-0.5.4\r\n",
      "\u001b[33mWARNING: Running pip as the 'root' user can result in broken permissions and conflicting behaviour with the system package manager. It is recommended to use a virtual environment instead: https://pip.pypa.io/warnings/venv\u001b[0m\u001b[33m\r\n",
      "\u001b[0mCollecting segmentation_models_pytorch\r\n",
      "  Downloading segmentation_models_pytorch-0.2.1-py3-none-any.whl (88 kB)\r\n",
      "\u001b[2K     \u001b[90m━━━━━━━━━━━━━━━━━━━━━━━━━━━━━━━━━━━━━━━\u001b[0m \u001b[32m88.6/88.6 kB\u001b[0m \u001b[31m975.5 kB/s\u001b[0m eta \u001b[36m0:00:00\u001b[0m\r\n",
      "\u001b[?25hCollecting timm==0.4.12\r\n",
      "  Downloading timm-0.4.12-py3-none-any.whl (376 kB)\r\n",
      "\u001b[2K     \u001b[90m━━━━━━━━━━━━━━━━━━━━━━━━━━━━━━━━━━━━━━━\u001b[0m \u001b[32m377.0/377.0 kB\u001b[0m \u001b[31m3.0 MB/s\u001b[0m eta \u001b[36m0:00:00\u001b[0m\r\n",
      "\u001b[?25hCollecting pretrainedmodels==0.7.4\r\n",
      "  Downloading pretrainedmodels-0.7.4.tar.gz (58 kB)\r\n",
      "\u001b[2K     \u001b[90m━━━━━━━━━━━━━━━━━━━━━━━━━━━━━━━━━━━━━━━━\u001b[0m \u001b[32m58.8/58.8 kB\u001b[0m \u001b[31m5.9 MB/s\u001b[0m eta \u001b[36m0:00:00\u001b[0m\r\n",
      "\u001b[?25h  Preparing metadata (setup.py) ... \u001b[?25l-\b \bdone\r\n",
      "\u001b[?25hCollecting efficientnet-pytorch==0.6.3\r\n",
      "  Downloading efficientnet_pytorch-0.6.3.tar.gz (16 kB)\r\n",
      "  Preparing metadata (setup.py) ... \u001b[?25l-\b \bdone\r\n",
      "\u001b[?25hRequirement already satisfied: torchvision>=0.5.0 in /opt/conda/lib/python3.7/site-packages (from segmentation_models_pytorch) (0.12.0)\r\n",
      "Requirement already satisfied: torch in /opt/conda/lib/python3.7/site-packages (from efficientnet-pytorch==0.6.3->segmentation_models_pytorch) (1.11.0)\r\n",
      "Requirement already satisfied: munch in /opt/conda/lib/python3.7/site-packages (from pretrainedmodels==0.7.4->segmentation_models_pytorch) (2.5.0)\r\n",
      "Requirement already satisfied: tqdm in /opt/conda/lib/python3.7/site-packages (from pretrainedmodels==0.7.4->segmentation_models_pytorch) (4.64.0)\r\n",
      "Requirement already satisfied: requests in /opt/conda/lib/python3.7/site-packages (from torchvision>=0.5.0->segmentation_models_pytorch) (2.27.1)\r\n",
      "Requirement already satisfied: numpy in /opt/conda/lib/python3.7/site-packages (from torchvision>=0.5.0->segmentation_models_pytorch) (1.21.6)\r\n",
      "Requirement already satisfied: typing-extensions in /opt/conda/lib/python3.7/site-packages (from torchvision>=0.5.0->segmentation_models_pytorch) (4.1.1)\r\n",
      "Requirement already satisfied: pillow!=8.3.*,>=5.3.0 in /opt/conda/lib/python3.7/site-packages (from torchvision>=0.5.0->segmentation_models_pytorch) (9.1.1)\r\n",
      "Requirement already satisfied: six in /opt/conda/lib/python3.7/site-packages (from munch->pretrainedmodels==0.7.4->segmentation_models_pytorch) (1.16.0)\r\n",
      "Requirement already satisfied: charset-normalizer~=2.0.0 in /opt/conda/lib/python3.7/site-packages (from requests->torchvision>=0.5.0->segmentation_models_pytorch) (2.0.12)\r\n",
      "Requirement already satisfied: certifi>=2017.4.17 in /opt/conda/lib/python3.7/site-packages (from requests->torchvision>=0.5.0->segmentation_models_pytorch) (2022.6.15)\r\n",
      "Requirement already satisfied: idna<4,>=2.5 in /opt/conda/lib/python3.7/site-packages (from requests->torchvision>=0.5.0->segmentation_models_pytorch) (3.3)\r\n",
      "Requirement already satisfied: urllib3<1.27,>=1.21.1 in /opt/conda/lib/python3.7/site-packages (from requests->torchvision>=0.5.0->segmentation_models_pytorch) (1.26.9)\r\n",
      "Building wheels for collected packages: efficientnet-pytorch, pretrainedmodels\r\n",
      "  Building wheel for efficientnet-pytorch (setup.py) ... \u001b[?25l-\b \b\\\b \bdone\r\n",
      "\u001b[?25h  Created wheel for efficientnet-pytorch: filename=efficientnet_pytorch-0.6.3-py3-none-any.whl size=12421 sha256=a63c9e73a7489e4413baaa2df86891560fc3754ee8a0b9b78876737796293a1a\r\n",
      "  Stored in directory: /root/.cache/pip/wheels/90/6b/0c/f0ad36d00310e65390b0d4c9218ae6250ac579c92540c9097a\r\n",
      "  Building wheel for pretrainedmodels (setup.py) ... \u001b[?25l-\b \b\\\b \bdone\r\n",
      "\u001b[?25h  Created wheel for pretrainedmodels: filename=pretrainedmodels-0.7.4-py3-none-any.whl size=60965 sha256=c40b66dafab22c65757c9a9fe44f67e503c257fb65da2b5acf72663208590624\r\n",
      "  Stored in directory: /root/.cache/pip/wheels/ed/27/e8/9543d42de2740d3544db96aefef63bda3f2c1761b3334f4873\r\n",
      "Successfully built efficientnet-pytorch pretrainedmodels\r\n",
      "Installing collected packages: efficientnet-pytorch, timm, pretrainedmodels, segmentation_models_pytorch\r\n",
      "  Attempting uninstall: timm\r\n",
      "    Found existing installation: timm 0.5.4\r\n",
      "    Uninstalling timm-0.5.4:\r\n",
      "      Successfully uninstalled timm-0.5.4\r\n",
      "Successfully installed efficientnet-pytorch-0.6.3 pretrainedmodels-0.7.4 segmentation_models_pytorch-0.2.1 timm-0.4.12\r\n",
      "\u001b[33mWARNING: Running pip as the 'root' user can result in broken permissions and conflicting behaviour with the system package manager. It is recommended to use a virtual environment instead: https://pip.pypa.io/warnings/venv\u001b[0m\u001b[33m\r\n",
      "\u001b[0m"
     ]
    }
   ],
   "source": [
    "! pip install timm\n",
    "! pip install segmentation_models_pytorch"
   ]
  },
  {
   "cell_type": "code",
   "execution_count": 2,
   "id": "928e5e1e",
   "metadata": {
    "execution": {
     "iopub.execute_input": "2022-06-28T03:07:51.971947Z",
     "iopub.status.busy": "2022-06-28T03:07:51.971627Z",
     "iopub.status.idle": "2022-06-28T03:08:02.698779Z",
     "shell.execute_reply": "2022-06-28T03:08:02.697667Z"
    },
    "papermill": {
     "duration": 10.741622,
     "end_time": "2022-06-28T03:08:02.701115",
     "exception": false,
     "start_time": "2022-06-28T03:07:51.959493",
     "status": "completed"
    },
    "tags": []
   },
   "outputs": [],
   "source": [
    "import os\n",
    "import gc\n",
    "import time\n",
    "import random\n",
    "\n",
    "\n",
    "import cv2\n",
    "import numpy as np\n",
    "import pandas as pd\n",
    "import matplotlib.pyplot as plt\n",
    "from tqdm import tqdm\n",
    "import timm\n",
    "\n",
    "from sklearn.model_selection import StratifiedGroupKFold\n",
    "\n",
    "import torch\n",
    "import torch.nn as nn\n",
    "from torch.utils.data import Dataset, DataLoader\n",
    "from torch.optim import Adam, SGD\n",
    "from torch.optim.lr_scheduler import CosineAnnealingLR\n",
    "from torch.cuda import amp\n",
    "\n",
    "import segmentation_models_pytorch as smp\n",
    "\n",
    "import albumentations as A\n",
    "from albumentations.pytorch import ToTensorV2\n",
    "\n",
    "import warnings\n",
    "warnings.filterwarnings(\"ignore\")"
   ]
  },
  {
   "cell_type": "markdown",
   "id": "ade21c59",
   "metadata": {
    "papermill": {
     "duration": 0.010423,
     "end_time": "2022-06-28T03:08:02.722579",
     "exception": false,
     "start_time": "2022-06-28T03:08:02.712156",
     "status": "completed"
    },
    "tags": []
   },
   "source": [
    "# Configuration"
   ]
  },
  {
   "cell_type": "code",
   "execution_count": 3,
   "id": "0233671c",
   "metadata": {
    "execution": {
     "iopub.execute_input": "2022-06-28T03:08:02.744847Z",
     "iopub.status.busy": "2022-06-28T03:08:02.744321Z",
     "iopub.status.idle": "2022-06-28T03:08:02.807088Z",
     "shell.execute_reply": "2022-06-28T03:08:02.806059Z"
    },
    "papermill": {
     "duration": 0.076196,
     "end_time": "2022-06-28T03:08:02.809081",
     "exception": false,
     "start_time": "2022-06-28T03:08:02.732885",
     "status": "completed"
    },
    "tags": []
   },
   "outputs": [],
   "source": [
    "class CFG:\n",
    "    seed          = 42\n",
    "    debug         = False\n",
    "    exp_name      = 'Baseline'\n",
    "    comment       = 'unet-efficientnet_b1-224x224-aug2-split2'\n",
    "    model_name    = 'Unet'\n",
    "    backbone      = 'efficientnet-b1'\n",
    "    batch_size    = 128\n",
    "    img_size      = [224, 224]\n",
    "    epochs        = 15\n",
    "    lr            = 2e-3\n",
    "    scheduler     = 'CosineAnnealingLR'\n",
    "    min_lr        = 1e-6\n",
    "    T_max         = int(30000/batch_size*epochs)+50\n",
    "    T_0           = 25\n",
    "    warmup_epochs = 0\n",
    "    wd            = 1e-6\n",
    "    n_accumulate  = max(1, 32//batch_size)\n",
    "    n_fold        = 5\n",
    "    num_classes   = 3\n",
    "    device        = torch.device(\"cuda:0\" if torch.cuda.is_available() else \"cpu\")"
   ]
  },
  {
   "cell_type": "code",
   "execution_count": 4,
   "id": "3c4d2533",
   "metadata": {
    "execution": {
     "iopub.execute_input": "2022-06-28T03:08:02.832276Z",
     "iopub.status.busy": "2022-06-28T03:08:02.831477Z",
     "iopub.status.idle": "2022-06-28T03:08:02.843370Z",
     "shell.execute_reply": "2022-06-28T03:08:02.842533Z"
    },
    "papermill": {
     "duration": 0.025209,
     "end_time": "2022-06-28T03:08:02.845326",
     "exception": false,
     "start_time": "2022-06-28T03:08:02.820117",
     "status": "completed"
    },
    "tags": []
   },
   "outputs": [],
   "source": [
    "def seed_torch(seed):\n",
    "    random.seed(seed)\n",
    "    os.environ['PYTHONHASHSEED'] = str(seed)\n",
    "    np.random.seed(seed)\n",
    "    torch.manual_seed(seed)\n",
    "    torch.cuda.manual_seed(seed)\n",
    "    torch.backends.cudnn.deterministic = True\n",
    "\n",
    "seed_torch(CFG.seed)"
   ]
  },
  {
   "cell_type": "markdown",
   "id": "42d53b3a",
   "metadata": {
    "papermill": {
     "duration": 0.010121,
     "end_time": "2022-06-28T03:08:02.865712",
     "exception": false,
     "start_time": "2022-06-28T03:08:02.855591",
     "status": "completed"
    },
    "tags": []
   },
   "source": [
    "# Meta Data"
   ]
  },
  {
   "cell_type": "code",
   "execution_count": 5,
   "id": "bea01ea7",
   "metadata": {
    "execution": {
     "iopub.execute_input": "2022-06-28T03:08:02.887865Z",
     "iopub.status.busy": "2022-06-28T03:08:02.887245Z",
     "iopub.status.idle": "2022-06-28T03:08:04.647958Z",
     "shell.execute_reply": "2022-06-28T03:08:04.646826Z"
    },
    "papermill": {
     "duration": 1.774298,
     "end_time": "2022-06-28T03:08:04.650454",
     "exception": false,
     "start_time": "2022-06-28T03:08:02.876156",
     "status": "completed"
    },
    "tags": []
   },
   "outputs": [],
   "source": [
    "df = pd.read_csv('../input/uwmgi-mask-dataset/train.csv')\n",
    "\n",
    "df['segmentation'] = df.segmentation.fillna('')\n",
    "df['rle_len'] = df.segmentation.map(len)\n",
    "df['mask_path'] = df.mask_path.str.replace('/png/','/np').str.replace('.png','.npy')"
   ]
  },
  {
   "cell_type": "code",
   "execution_count": 6,
   "id": "4dae58be",
   "metadata": {
    "execution": {
     "iopub.execute_input": "2022-06-28T03:08:04.673590Z",
     "iopub.status.busy": "2022-06-28T03:08:04.673004Z",
     "iopub.status.idle": "2022-06-28T03:08:05.220214Z",
     "shell.execute_reply": "2022-06-28T03:08:05.219236Z"
    },
    "papermill": {
     "duration": 0.561442,
     "end_time": "2022-06-28T03:08:05.222654",
     "exception": false,
     "start_time": "2022-06-28T03:08:04.661212",
     "status": "completed"
    },
    "tags": []
   },
   "outputs": [],
   "source": [
    "df2 = df.groupby(['id'])['segmentation'].agg(list).to_frame().reset_index()\n",
    "df2 = df2.merge(df.groupby(['id'])['rle_len'].agg(sum).to_frame().reset_index())\n",
    "\n",
    "df = df.drop(columns=['segmentation', 'class', 'rle_len'])\n",
    "df = df.groupby(['id']).head(1).reset_index(drop=True)\n",
    "df = df.merge(df2, on=['id'])\n",
    "df['empty'] = (df.rle_len==0)"
   ]
  },
  {
   "cell_type": "code",
   "execution_count": 7,
   "id": "fbbc7f55",
   "metadata": {
    "execution": {
     "iopub.execute_input": "2022-06-28T03:08:05.245719Z",
     "iopub.status.busy": "2022-06-28T03:08:05.245418Z",
     "iopub.status.idle": "2022-06-28T03:08:05.264611Z",
     "shell.execute_reply": "2022-06-28T03:08:05.263600Z"
    },
    "papermill": {
     "duration": 0.033607,
     "end_time": "2022-06-28T03:08:05.267214",
     "exception": false,
     "start_time": "2022-06-28T03:08:05.233607",
     "status": "completed"
    },
    "tags": []
   },
   "outputs": [
    {
     "data": {
      "text/html": [
       "<div>\n",
       "<style scoped>\n",
       "    .dataframe tbody tr th:only-of-type {\n",
       "        vertical-align: middle;\n",
       "    }\n",
       "\n",
       "    .dataframe tbody tr th {\n",
       "        vertical-align: top;\n",
       "    }\n",
       "\n",
       "    .dataframe thead th {\n",
       "        text-align: right;\n",
       "    }\n",
       "</style>\n",
       "<table border=\"1\" class=\"dataframe\">\n",
       "  <thead>\n",
       "    <tr style=\"text-align: right;\">\n",
       "      <th></th>\n",
       "      <th>id</th>\n",
       "      <th>case</th>\n",
       "      <th>day</th>\n",
       "      <th>slice</th>\n",
       "      <th>image_path</th>\n",
       "      <th>height</th>\n",
       "      <th>width</th>\n",
       "      <th>mask_path</th>\n",
       "      <th>segmentation</th>\n",
       "      <th>rle_len</th>\n",
       "      <th>empty</th>\n",
       "    </tr>\n",
       "  </thead>\n",
       "  <tbody>\n",
       "    <tr>\n",
       "      <th>0</th>\n",
       "      <td>case123_day20_slice_0001</td>\n",
       "      <td>123</td>\n",
       "      <td>20</td>\n",
       "      <td>1</td>\n",
       "      <td>/kaggle/input/uw-madison-gi-tract-image-segmen...</td>\n",
       "      <td>266</td>\n",
       "      <td>266</td>\n",
       "      <td>/kaggle/input/uwmgi-mask-dataset/np/uw-madison...</td>\n",
       "      <td>[, , ]</td>\n",
       "      <td>0</td>\n",
       "      <td>True</td>\n",
       "    </tr>\n",
       "    <tr>\n",
       "      <th>1</th>\n",
       "      <td>case123_day20_slice_0002</td>\n",
       "      <td>123</td>\n",
       "      <td>20</td>\n",
       "      <td>2</td>\n",
       "      <td>/kaggle/input/uw-madison-gi-tract-image-segmen...</td>\n",
       "      <td>266</td>\n",
       "      <td>266</td>\n",
       "      <td>/kaggle/input/uwmgi-mask-dataset/np/uw-madison...</td>\n",
       "      <td>[, , ]</td>\n",
       "      <td>0</td>\n",
       "      <td>True</td>\n",
       "    </tr>\n",
       "    <tr>\n",
       "      <th>2</th>\n",
       "      <td>case123_day20_slice_0003</td>\n",
       "      <td>123</td>\n",
       "      <td>20</td>\n",
       "      <td>3</td>\n",
       "      <td>/kaggle/input/uw-madison-gi-tract-image-segmen...</td>\n",
       "      <td>266</td>\n",
       "      <td>266</td>\n",
       "      <td>/kaggle/input/uwmgi-mask-dataset/np/uw-madison...</td>\n",
       "      <td>[, , ]</td>\n",
       "      <td>0</td>\n",
       "      <td>True</td>\n",
       "    </tr>\n",
       "    <tr>\n",
       "      <th>3</th>\n",
       "      <td>case123_day20_slice_0004</td>\n",
       "      <td>123</td>\n",
       "      <td>20</td>\n",
       "      <td>4</td>\n",
       "      <td>/kaggle/input/uw-madison-gi-tract-image-segmen...</td>\n",
       "      <td>266</td>\n",
       "      <td>266</td>\n",
       "      <td>/kaggle/input/uwmgi-mask-dataset/np/uw-madison...</td>\n",
       "      <td>[, , ]</td>\n",
       "      <td>0</td>\n",
       "      <td>True</td>\n",
       "    </tr>\n",
       "    <tr>\n",
       "      <th>4</th>\n",
       "      <td>case123_day20_slice_0005</td>\n",
       "      <td>123</td>\n",
       "      <td>20</td>\n",
       "      <td>5</td>\n",
       "      <td>/kaggle/input/uw-madison-gi-tract-image-segmen...</td>\n",
       "      <td>266</td>\n",
       "      <td>266</td>\n",
       "      <td>/kaggle/input/uwmgi-mask-dataset/np/uw-madison...</td>\n",
       "      <td>[, , ]</td>\n",
       "      <td>0</td>\n",
       "      <td>True</td>\n",
       "    </tr>\n",
       "  </tbody>\n",
       "</table>\n",
       "</div>"
      ],
      "text/plain": [
       "                         id  case  day  slice  \\\n",
       "0  case123_day20_slice_0001   123   20      1   \n",
       "1  case123_day20_slice_0002   123   20      2   \n",
       "2  case123_day20_slice_0003   123   20      3   \n",
       "3  case123_day20_slice_0004   123   20      4   \n",
       "4  case123_day20_slice_0005   123   20      5   \n",
       "\n",
       "                                          image_path  height  width  \\\n",
       "0  /kaggle/input/uw-madison-gi-tract-image-segmen...     266    266   \n",
       "1  /kaggle/input/uw-madison-gi-tract-image-segmen...     266    266   \n",
       "2  /kaggle/input/uw-madison-gi-tract-image-segmen...     266    266   \n",
       "3  /kaggle/input/uw-madison-gi-tract-image-segmen...     266    266   \n",
       "4  /kaggle/input/uw-madison-gi-tract-image-segmen...     266    266   \n",
       "\n",
       "                                           mask_path segmentation  rle_len  \\\n",
       "0  /kaggle/input/uwmgi-mask-dataset/np/uw-madison...       [, , ]        0   \n",
       "1  /kaggle/input/uwmgi-mask-dataset/np/uw-madison...       [, , ]        0   \n",
       "2  /kaggle/input/uwmgi-mask-dataset/np/uw-madison...       [, , ]        0   \n",
       "3  /kaggle/input/uwmgi-mask-dataset/np/uw-madison...       [, , ]        0   \n",
       "4  /kaggle/input/uwmgi-mask-dataset/np/uw-madison...       [, , ]        0   \n",
       "\n",
       "   empty  \n",
       "0   True  \n",
       "1   True  \n",
       "2   True  \n",
       "3   True  \n",
       "4   True  "
      ]
     },
     "execution_count": 7,
     "metadata": {},
     "output_type": "execute_result"
    }
   ],
   "source": [
    "df.head()"
   ]
  },
  {
   "cell_type": "markdown",
   "id": "b6c3ea49",
   "metadata": {
    "papermill": {
     "duration": 0.010538,
     "end_time": "2022-06-28T03:08:05.289153",
     "exception": false,
     "start_time": "2022-06-28T03:08:05.278615",
     "status": "completed"
    },
    "tags": []
   },
   "source": [
    "# Utilities"
   ]
  },
  {
   "cell_type": "code",
   "execution_count": 8,
   "id": "59595684",
   "metadata": {
    "execution": {
     "iopub.execute_input": "2022-06-28T03:08:05.311684Z",
     "iopub.status.busy": "2022-06-28T03:08:05.311385Z",
     "iopub.status.idle": "2022-06-28T03:08:05.320897Z",
     "shell.execute_reply": "2022-06-28T03:08:05.319981Z"
    },
    "papermill": {
     "duration": 0.023319,
     "end_time": "2022-06-28T03:08:05.323005",
     "exception": false,
     "start_time": "2022-06-28T03:08:05.299686",
     "status": "completed"
    },
    "tags": []
   },
   "outputs": [],
   "source": [
    "#https://www.kaggle.com/code/paulorzp/run-length-encode-and-decode/\n",
    "\n",
    "def rle_encode(img):\n",
    "    '''\n",
    "    img: numpy array, 1 - mask, 0 - background\n",
    "    Returns run length as string formated\n",
    "    '''\n",
    "    pixels = img.flatten()\n",
    "    pixels = np.concatenate([[0], pixels, [0]])\n",
    "    runs = np.where(pixels[1:] != pixels[:-1])[0] + 1\n",
    "    runs[1::2] -= runs[::2]\n",
    "    return ' '.join(str(x) for x in runs)\n",
    "\n",
    "def rle_decode(mask_rle, shape):\n",
    "    '''\n",
    "    mask_rle: run-length as string formated (start length)\n",
    "    shape: (height,width) of array to return \n",
    "    Returns numpy array, 1 - mask, 0 - background\n",
    "\n",
    "    '''\n",
    "    s = mask_rle.split()\n",
    "    starts, lengths = [np.asarray(x, dtype=int) for x in (s[0:][::2], s[1:][::2])]\n",
    "    starts -= 1\n",
    "    ends = starts + lengths\n",
    "    img = np.zeros(shape[0]*shape[1], dtype=np.uint8)\n",
    "    for lo, hi in zip(starts, ends):\n",
    "        img[lo:hi] = 1\n",
    "    return img.reshape(shape)"
   ]
  },
  {
   "cell_type": "code",
   "execution_count": 9,
   "id": "92530724",
   "metadata": {
    "execution": {
     "iopub.execute_input": "2022-06-28T03:08:05.347170Z",
     "iopub.status.busy": "2022-06-28T03:08:05.346889Z",
     "iopub.status.idle": "2022-06-28T03:08:05.357267Z",
     "shell.execute_reply": "2022-06-28T03:08:05.356429Z"
    },
    "papermill": {
     "duration": 0.02448,
     "end_time": "2022-06-28T03:08:05.359284",
     "exception": false,
     "start_time": "2022-06-28T03:08:05.334804",
     "status": "completed"
    },
    "tags": []
   },
   "outputs": [],
   "source": [
    "def load_img(path):\n",
    "    img = cv2.imread(path, cv2.IMREAD_UNCHANGED)\n",
    "    img = np.tile(img[...,None], [1, 1, 3]) # gray to rgb\n",
    "    img = img.astype('float32') # original is uint16\n",
    "    mx = np.max(img)\n",
    "    if mx:\n",
    "        img/=mx # scale image to [0, 1]\n",
    "    return img\n",
    "\n",
    "def load_msk(path):\n",
    "    msk = np.load(path)\n",
    "    msk = msk.astype('float32')\n",
    "    msk/=255.0\n",
    "    return msk\n",
    "\n",
    "def show_img(img, mask=None):\n",
    "    clahe = cv2.createCLAHE(clipLimit=2.0, tileGridSize=(8,8))\n",
    "#     img = clahe.apply(img)\n",
    "#     plt.figure(figsize=(10,10))\n",
    "    plt.imshow(img, cmap='bone')\n",
    "    \n",
    "    if mask is not None:\n",
    "        # plt.imshow(np.ma.masked_where(mask!=1, mask), alpha=0.5, cmap='autumn')\n",
    "        plt.imshow(mask, alpha=0.5)\n",
    "        handles = [Rectangle((0,0),1,1, color=_c) for _c in [(0.667,0.0,0.0), (0.0,0.667,0.0), (0.0,0.0,0.667)]]\n",
    "        labels = [\"Large Bowel\", \"Small Bowel\", \"Stomach\"]\n",
    "        plt.legend(handles,labels)\n",
    "    plt.axis('off')"
   ]
  },
  {
   "cell_type": "code",
   "execution_count": 10,
   "id": "87bc6bcc",
   "metadata": {
    "execution": {
     "iopub.execute_input": "2022-06-28T03:08:05.382514Z",
     "iopub.status.busy": "2022-06-28T03:08:05.382246Z",
     "iopub.status.idle": "2022-06-28T03:08:05.390212Z",
     "shell.execute_reply": "2022-06-28T03:08:05.389158Z"
    },
    "papermill": {
     "duration": 0.021437,
     "end_time": "2022-06-28T03:08:05.392128",
     "exception": false,
     "start_time": "2022-06-28T03:08:05.370691",
     "status": "completed"
    },
    "tags": []
   },
   "outputs": [],
   "source": [
    "class AverageMeter(object):\n",
    "    \"\"\"Computes and stores the average and current value\"\"\"\n",
    "    def __init__(self):\n",
    "        self.reset()\n",
    "\n",
    "    def reset(self):\n",
    "        self.val = 0\n",
    "        self.avg = 0\n",
    "        self.sum = 0\n",
    "        self.count = 0\n",
    "\n",
    "    def update(self, val, n=1):\n",
    "        self.val = val\n",
    "        self.sum += val * n\n",
    "        self.count += n\n",
    "        self.avg = self.sum / self.count\n",
    "\n",
    "def asMinutes(s):\n",
    "    m = math.floor(s / 60)\n",
    "    s -= m * 60\n",
    "    return '%dm %ds' % (m, s)\n",
    "\n",
    "\n",
    "def timeSince(since, percent):\n",
    "    now = time.time()\n",
    "    s = now - since\n",
    "    es = s / (percent)\n",
    "    rs = es - s\n",
    "    return '%s (remain %s)' % (asMinutes(s), asMinutes(rs))"
   ]
  },
  {
   "cell_type": "markdown",
   "id": "dcc2cb32",
   "metadata": {
    "papermill": {
     "duration": 0.010868,
     "end_time": "2022-06-28T03:08:05.413603",
     "exception": false,
     "start_time": "2022-06-28T03:08:05.402735",
     "status": "completed"
    },
    "tags": []
   },
   "source": [
    "# Dataset"
   ]
  },
  {
   "cell_type": "code",
   "execution_count": 11,
   "id": "ba31a8f2",
   "metadata": {
    "execution": {
     "iopub.execute_input": "2022-06-28T03:08:05.436915Z",
     "iopub.status.busy": "2022-06-28T03:08:05.436645Z",
     "iopub.status.idle": "2022-06-28T03:08:05.446852Z",
     "shell.execute_reply": "2022-06-28T03:08:05.446063Z"
    },
    "papermill": {
     "duration": 0.024518,
     "end_time": "2022-06-28T03:08:05.448908",
     "exception": false,
     "start_time": "2022-06-28T03:08:05.424390",
     "status": "completed"
    },
    "tags": []
   },
   "outputs": [],
   "source": [
    "class BuildDataset(Dataset):\n",
    "    def __init__(self, df, label=True, transforms=None):\n",
    "        self.df         = df\n",
    "        self.label      = label\n",
    "        self.img_paths  = df['image_path'].tolist()\n",
    "        self.msk_paths  = df['mask_path'].tolist()\n",
    "        self.transforms = transforms\n",
    "        \n",
    "    def __len__(self):\n",
    "        return len(self.df)\n",
    "    \n",
    "    def __getitem__(self, index):\n",
    "        img_path  = self.img_paths[index]\n",
    "        img = []\n",
    "        img = load_img(img_path)\n",
    "        \n",
    "        if self.label:\n",
    "            msk_path = self.msk_paths[index]\n",
    "            msk = load_msk(msk_path)\n",
    "            if self.transforms:\n",
    "                data = self.transforms(image=img, mask=msk)\n",
    "                img  = data['image']\n",
    "                msk  = data['mask']\n",
    "            img = np.transpose(img, (2, 0, 1))\n",
    "            msk = np.transpose(msk, (2, 0, 1))\n",
    "            return torch.tensor(img), torch.tensor(msk)\n",
    "        else:\n",
    "            if self.transforms:\n",
    "                data = self.transforms(image=img)\n",
    "                img  = data['image']\n",
    "            img = np.transpose(img, (2, 0, 1))\n",
    "            return torch.tensor(img)"
   ]
  },
  {
   "cell_type": "markdown",
   "id": "ede2d750",
   "metadata": {
    "papermill": {
     "duration": 0.011375,
     "end_time": "2022-06-28T03:08:05.472000",
     "exception": false,
     "start_time": "2022-06-28T03:08:05.460625",
     "status": "completed"
    },
    "tags": []
   },
   "source": [
    "# Transformations"
   ]
  },
  {
   "cell_type": "code",
   "execution_count": 12,
   "id": "2d6b8c4b",
   "metadata": {
    "execution": {
     "iopub.execute_input": "2022-06-28T03:08:05.495720Z",
     "iopub.status.busy": "2022-06-28T03:08:05.495431Z",
     "iopub.status.idle": "2022-06-28T03:08:05.503131Z",
     "shell.execute_reply": "2022-06-28T03:08:05.502237Z"
    },
    "papermill": {
     "duration": 0.02207,
     "end_time": "2022-06-28T03:08:05.505083",
     "exception": false,
     "start_time": "2022-06-28T03:08:05.483013",
     "status": "completed"
    },
    "tags": []
   },
   "outputs": [],
   "source": [
    "data_transforms = {\n",
    "    \"train\": A.Compose([\n",
    "        A.Resize(*CFG.img_size, interpolation=cv2.INTER_NEAREST),\n",
    "        A.HorizontalFlip(p=0.5),\n",
    "        #A.VerticalFlip(p=0.5),\n",
    "        A.ShiftScaleRotate(shift_limit=0.0625, scale_limit=0.05, rotate_limit=10, p=0.5),\n",
    "        A.OneOf([\n",
    "            A.GridDistortion(num_steps=5, distort_limit=0.05, p=1.0),\n",
    "            #A.OpticalDistortion(distort_limit=0.05, shift_limit=0.05, p=1.0),\n",
    "            A.ElasticTransform(alpha=1, sigma=50, alpha_affine=50, p=1.0)\n",
    "        ], p=0.25),\n",
    "        A.CoarseDropout(max_holes=8, max_height=CFG.img_size[0]//20, max_width=CFG.img_size[1]//20,\n",
    "                        min_holes=5, fill_value=0, mask_fill_value=0, p=0.5),\n",
    "        ], p=1.0),\n",
    "    \n",
    "    \"valid\": A.Compose([\n",
    "        A.Resize(*CFG.img_size, interpolation=cv2.INTER_NEAREST),\n",
    "        ], p=1.0)\n",
    "}"
   ]
  },
  {
   "cell_type": "markdown",
   "id": "e11b1fcf",
   "metadata": {
    "papermill": {
     "duration": 0.010592,
     "end_time": "2022-06-28T03:08:05.526427",
     "exception": false,
     "start_time": "2022-06-28T03:08:05.515835",
     "status": "completed"
    },
    "tags": []
   },
   "source": [
    "# K-fold"
   ]
  },
  {
   "cell_type": "code",
   "execution_count": 13,
   "id": "aa7ce8b3",
   "metadata": {
    "execution": {
     "iopub.execute_input": "2022-06-28T03:08:05.549669Z",
     "iopub.status.busy": "2022-06-28T03:08:05.549370Z",
     "iopub.status.idle": "2022-06-28T03:08:05.712469Z",
     "shell.execute_reply": "2022-06-28T03:08:05.711480Z"
    },
    "papermill": {
     "duration": 0.17779,
     "end_time": "2022-06-28T03:08:05.715348",
     "exception": false,
     "start_time": "2022-06-28T03:08:05.537558",
     "status": "completed"
    },
    "tags": []
   },
   "outputs": [
    {
     "data": {
      "text/plain": [
       "fold  empty\n",
       "0.0   False    4007\n",
       "      True     4857\n",
       "1.0   False    3945\n",
       "      True     4951\n",
       "2.0   False    2788\n",
       "      True     3692\n",
       "3.0   False    2936\n",
       "      True     4232\n",
       "4.0   False    2914\n",
       "      True     4174\n",
       "Name: id, dtype: int64"
      ]
     },
     "execution_count": 13,
     "metadata": {},
     "output_type": "execute_result"
    }
   ],
   "source": [
    "skf = StratifiedGroupKFold(n_splits=CFG.n_fold, shuffle=True, random_state=CFG.seed)\n",
    "for fold, (train_idx, val_idx) in enumerate(skf.split(df, df['empty'], groups = df[\"case\"])):\n",
    "    df.loc[val_idx, 'fold'] = fold\n",
    "df.groupby(['fold','empty'])['id'].count()"
   ]
  },
  {
   "cell_type": "markdown",
   "id": "da9f6d48",
   "metadata": {
    "papermill": {
     "duration": 0.011095,
     "end_time": "2022-06-28T03:08:05.737379",
     "exception": false,
     "start_time": "2022-06-28T03:08:05.726284",
     "status": "completed"
    },
    "tags": []
   },
   "source": [
    "# Data Loader"
   ]
  },
  {
   "cell_type": "code",
   "execution_count": 14,
   "id": "9375ff8d",
   "metadata": {
    "execution": {
     "iopub.execute_input": "2022-06-28T03:08:05.760470Z",
     "iopub.status.busy": "2022-06-28T03:08:05.760161Z",
     "iopub.status.idle": "2022-06-28T03:08:05.768058Z",
     "shell.execute_reply": "2022-06-28T03:08:05.767052Z"
    },
    "papermill": {
     "duration": 0.022577,
     "end_time": "2022-06-28T03:08:05.770739",
     "exception": false,
     "start_time": "2022-06-28T03:08:05.748162",
     "status": "completed"
    },
    "tags": []
   },
   "outputs": [],
   "source": [
    "def prepare_loaders(fold):\n",
    "    train_df = df[df['fold'] != fold].reset_index(drop=True)\n",
    "    valid_df = df[df['fold'] == fold].reset_index(drop=True)\n",
    "    \n",
    "    if CFG.debug:\n",
    "        train_df = train_df[train_df['empty'] == False].head(160)\n",
    "        valid_df = valid_df[valid_df['empty'] == False].head(100)\n",
    "        \n",
    "    train_dataset = BuildDataset(train_df, transforms=data_transforms['train'])\n",
    "    valid_dataset = BuildDataset(valid_df, transforms=data_transforms['valid'])\n",
    "    \n",
    "    train_loader = DataLoader(train_dataset, batch_size=CFG.batch_size if not CFG.debug else 20,\n",
    "                              num_workers=2, shuffle=True, pin_memory=True, drop_last=False)\n",
    "    valid_loader = DataLoader(valid_dataset, batch_size=CFG.batch_size*2 if not CFG.debug else 20,\n",
    "                              num_workers=2, shuffle=False, pin_memory=True)\n",
    "    \n",
    "    return train_loader, valid_loader"
   ]
  },
  {
   "cell_type": "code",
   "execution_count": 15,
   "id": "6ab11c26",
   "metadata": {
    "execution": {
     "iopub.execute_input": "2022-06-28T03:08:05.793786Z",
     "iopub.status.busy": "2022-06-28T03:08:05.793530Z",
     "iopub.status.idle": "2022-06-28T03:08:05.812483Z",
     "shell.execute_reply": "2022-06-28T03:08:05.811581Z"
    },
    "papermill": {
     "duration": 0.033205,
     "end_time": "2022-06-28T03:08:05.814715",
     "exception": false,
     "start_time": "2022-06-28T03:08:05.781510",
     "status": "completed"
    },
    "tags": []
   },
   "outputs": [],
   "source": [
    "train_loader, valid_loader = prepare_loaders(fold=4)"
   ]
  },
  {
   "cell_type": "code",
   "execution_count": 16,
   "id": "c9f0b3f0",
   "metadata": {
    "execution": {
     "iopub.execute_input": "2022-06-28T03:08:05.840000Z",
     "iopub.status.busy": "2022-06-28T03:08:05.838326Z",
     "iopub.status.idle": "2022-06-28T03:08:18.390286Z",
     "shell.execute_reply": "2022-06-28T03:08:18.389075Z"
    },
    "papermill": {
     "duration": 12.566639,
     "end_time": "2022-06-28T03:08:18.392757",
     "exception": false,
     "start_time": "2022-06-28T03:08:05.826118",
     "status": "completed"
    },
    "tags": []
   },
   "outputs": [],
   "source": [
    "imgs, msks = next(iter(train_loader))"
   ]
  },
  {
   "cell_type": "code",
   "execution_count": 17,
   "id": "de26811a",
   "metadata": {
    "execution": {
     "iopub.execute_input": "2022-06-28T03:08:18.417358Z",
     "iopub.status.busy": "2022-06-28T03:08:18.416471Z",
     "iopub.status.idle": "2022-06-28T03:08:18.642972Z",
     "shell.execute_reply": "2022-06-28T03:08:18.642102Z"
    },
    "papermill": {
     "duration": 0.241303,
     "end_time": "2022-06-28T03:08:18.645406",
     "exception": false,
     "start_time": "2022-06-28T03:08:18.404103",
     "status": "completed"
    },
    "tags": []
   },
   "outputs": [
    {
     "data": {
      "text/plain": [
       "<matplotlib.image.AxesImage at 0x7ff1b69b04d0>"
      ]
     },
     "execution_count": 17,
     "metadata": {},
     "output_type": "execute_result"
    },
    {
     "data": {
      "image/png": "[encoded data removed]",
      "text/plain": [
       "<Figure size 432x288 with 1 Axes>"
      ]
     },
     "metadata": {
      "needs_background": "light"
     },
     "output_type": "display_data"
    }
   ],
   "source": [
    "plt.imshow(imgs[0].permute((1, 2, 0)))\n",
    "plt.imshow(msks[0].permute((1, 2, 0)), alpha=0.5)"
   ]
  },
  {
   "cell_type": "code",
   "execution_count": 18,
   "id": "823b0405",
   "metadata": {
    "execution": {
     "iopub.execute_input": "2022-06-28T03:08:18.670042Z",
     "iopub.status.busy": "2022-06-28T03:08:18.669763Z",
     "iopub.status.idle": "2022-06-28T03:08:18.676460Z",
     "shell.execute_reply": "2022-06-28T03:08:18.675447Z"
    },
    "papermill": {
     "duration": 0.021334,
     "end_time": "2022-06-28T03:08:18.678595",
     "exception": false,
     "start_time": "2022-06-28T03:08:18.657261",
     "status": "completed"
    },
    "tags": []
   },
   "outputs": [],
   "source": [
    "def plot_batch(imgs, msks, size=3):\n",
    "    plt.figure(figsize=(5*5, 5))\n",
    "    for idx in range(size):\n",
    "        plt.subplot(1, 5, idx+1)\n",
    "        img = imgs[idx,].permute((1, 2, 0)).numpy()*255.0\n",
    "        img = img.astype('uint8')\n",
    "        msk = msks[idx,].permute((1, 2, 0)).numpy()*255.0\n",
    "        show_img(img, msk)\n",
    "    plt.tight_layout()\n",
    "    plt.show()"
   ]
  },
  {
   "cell_type": "code",
   "execution_count": 19,
   "id": "7088daaa",
   "metadata": {
    "execution": {
     "iopub.execute_input": "2022-06-28T03:08:18.702478Z",
     "iopub.status.busy": "2022-06-28T03:08:18.702232Z",
     "iopub.status.idle": "2022-06-28T03:08:18.706526Z",
     "shell.execute_reply": "2022-06-28T03:08:18.705559Z"
    },
    "papermill": {
     "duration": 0.018583,
     "end_time": "2022-06-28T03:08:18.708634",
     "exception": false,
     "start_time": "2022-06-28T03:08:18.690051",
     "status": "completed"
    },
    "tags": []
   },
   "outputs": [],
   "source": [
    "from matplotlib.patches import Rectangle"
   ]
  },
  {
   "cell_type": "code",
   "execution_count": 20,
   "id": "cc3fa0e9",
   "metadata": {
    "execution": {
     "iopub.execute_input": "2022-06-28T03:08:18.732541Z",
     "iopub.status.busy": "2022-06-28T03:08:18.731981Z",
     "iopub.status.idle": "2022-06-28T03:08:19.301241Z",
     "shell.execute_reply": "2022-06-28T03:08:19.300370Z"
    },
    "papermill": {
     "duration": 0.585484,
     "end_time": "2022-06-28T03:08:19.305437",
     "exception": false,
     "start_time": "2022-06-28T03:08:18.719953",
     "status": "completed"
    },
    "tags": []
   },
   "outputs": [
    {
     "data": {
      "image/png": "[encoded data removed]",
      "text/plain": [
       "<Figure size 1800x360 with 4 Axes>"
      ]
     },
     "metadata": {
      "needs_background": "light"
     },
     "output_type": "display_data"
    }
   ],
   "source": [
    "plot_batch(imgs, msks, 4)"
   ]
  },
  {
   "cell_type": "markdown",
   "id": "0ff95f9f",
   "metadata": {
    "papermill": {
     "duration": 0.01396,
     "end_time": "2022-06-28T03:08:19.334101",
     "exception": false,
     "start_time": "2022-06-28T03:08:19.320141",
     "status": "completed"
    },
    "tags": []
   },
   "source": [
    "# Model"
   ]
  },
  {
   "cell_type": "code",
   "execution_count": 21,
   "id": "99cbace6",
   "metadata": {
    "_kg_hide-input": false,
    "_kg_hide-output": false,
    "execution": {
     "iopub.execute_input": "2022-06-28T03:08:19.364071Z",
     "iopub.status.busy": "2022-06-28T03:08:19.363760Z",
     "iopub.status.idle": "2022-06-28T03:08:19.368997Z",
     "shell.execute_reply": "2022-06-28T03:08:19.368017Z"
    },
    "papermill": {
     "duration": 0.022537,
     "end_time": "2022-06-28T03:08:19.370991",
     "exception": false,
     "start_time": "2022-06-28T03:08:19.348454",
     "status": "completed"
    },
    "tags": []
   },
   "outputs": [],
   "source": [
    "def build_model():\n",
    "    model = smp.Unet(\n",
    "        encoder_name=CFG.backbone,\n",
    "        encoder_weights=\"imagenet\",\n",
    "        in_channels=3,\n",
    "        classes=CFG.num_classes,\n",
    "        activation=None,\n",
    "    )\n",
    "\n",
    "    model.to(CFG.device)\n",
    "    return model"
   ]
  },
  {
   "cell_type": "code",
   "execution_count": 22,
   "id": "111964b1",
   "metadata": {
    "execution": {
     "iopub.execute_input": "2022-06-28T03:08:19.400174Z",
     "iopub.status.busy": "2022-06-28T03:08:19.399909Z",
     "iopub.status.idle": "2022-06-28T03:08:19.409144Z",
     "shell.execute_reply": "2022-06-28T03:08:19.408174Z"
    },
    "papermill": {
     "duration": 0.026283,
     "end_time": "2022-06-28T03:08:19.411207",
     "exception": false,
     "start_time": "2022-06-28T03:08:19.384924",
     "status": "completed"
    },
    "tags": []
   },
   "outputs": [],
   "source": [
    "def dice_coef(y_true, y_pred, thr=0.5, dim=(2,3), epsilon=0.001):\n",
    "    y_true = y_true.to(torch.float32)\n",
    "    y_pred = (y_pred>thr).to(torch.float32)\n",
    "    inter = (y_true*y_pred).sum(dim=dim)\n",
    "    den = y_true.sum(dim=dim) + y_pred.sum(dim=dim)\n",
    "    dice = ((2*inter+epsilon)/(den+epsilon)).mean(dim=(1,0))\n",
    "    return dice\n",
    "\n",
    "def iou_coef(y_true, y_pred, thr=0.5, dim=(2,3), epsilon=0.001):\n",
    "    y_true = y_true.to(torch.float32)\n",
    "    y_pred = (y_pred>thr).to(torch.float32)\n",
    "    inter = (y_true*y_pred).sum(dim=dim)\n",
    "    union = (y_true + y_pred - y_true*y_pred).sum(dim=dim)\n",
    "    iou = ((inter+epsilon)/(union+epsilon)).mean(dim=(1,0))\n",
    "    return iou"
   ]
  },
  {
   "cell_type": "code",
   "execution_count": 23,
   "id": "55a6a4bb",
   "metadata": {
    "execution": {
     "iopub.execute_input": "2022-06-28T03:08:19.440548Z",
     "iopub.status.busy": "2022-06-28T03:08:19.440303Z",
     "iopub.status.idle": "2022-06-28T03:08:19.445907Z",
     "shell.execute_reply": "2022-06-28T03:08:19.444981Z"
    },
    "papermill": {
     "duration": 0.022663,
     "end_time": "2022-06-28T03:08:19.447815",
     "exception": false,
     "start_time": "2022-06-28T03:08:19.425152",
     "status": "completed"
    },
    "tags": []
   },
   "outputs": [],
   "source": [
    "JaccardLoss = smp.losses.JaccardLoss(mode='multilabel')\n",
    "DiceLoss    = smp.losses.DiceLoss(mode='multilabel')\n",
    "BCELoss     = smp.losses.SoftBCEWithLogitsLoss()\n",
    "LovaszLoss  = smp.losses.LovaszLoss(mode='multilabel', per_image=False)\n",
    "TverskyLoss = smp.losses.TverskyLoss(mode='multilabel', log_loss=False)"
   ]
  },
  {
   "cell_type": "code",
   "execution_count": 24,
   "id": "5431548f",
   "metadata": {
    "execution": {
     "iopub.execute_input": "2022-06-28T03:08:19.477476Z",
     "iopub.status.busy": "2022-06-28T03:08:19.476761Z",
     "iopub.status.idle": "2022-06-28T03:08:19.481624Z",
     "shell.execute_reply": "2022-06-28T03:08:19.480817Z"
    },
    "papermill": {
     "duration": 0.021706,
     "end_time": "2022-06-28T03:08:19.483468",
     "exception": false,
     "start_time": "2022-06-28T03:08:19.461762",
     "status": "completed"
    },
    "tags": []
   },
   "outputs": [],
   "source": [
    "def criterion(y_pred, y_true):\n",
    "    return 0.5*BCELoss(y_pred, y_true) + 0.5*TverskyLoss(y_pred, y_true)"
   ]
  },
  {
   "cell_type": "markdown",
   "id": "a9eba799",
   "metadata": {
    "papermill": {
     "duration": 0.014298,
     "end_time": "2022-06-28T03:08:19.511737",
     "exception": false,
     "start_time": "2022-06-28T03:08:19.497439",
     "status": "completed"
    },
    "tags": []
   },
   "source": [
    "# Training"
   ]
  },
  {
   "cell_type": "code",
   "execution_count": 25,
   "id": "d90b5b2f",
   "metadata": {
    "execution": {
     "iopub.execute_input": "2022-06-28T03:08:19.541815Z",
     "iopub.status.busy": "2022-06-28T03:08:19.541528Z",
     "iopub.status.idle": "2022-06-28T03:08:19.551962Z",
     "shell.execute_reply": "2022-06-28T03:08:19.551171Z"
    },
    "papermill": {
     "duration": 0.027343,
     "end_time": "2022-06-28T03:08:19.553904",
     "exception": false,
     "start_time": "2022-06-28T03:08:19.526561",
     "status": "completed"
    },
    "tags": []
   },
   "outputs": [],
   "source": [
    "def train_fn(model, dataloader, criterion, optimizer, scheduler, epoch, device):\n",
    "    \n",
    "    model.train()\n",
    "    scaler = amp.GradScaler()\n",
    "    \n",
    "    losses = AverageMeter()\n",
    "    \n",
    "    pbar = tqdm(enumerate(dataloader), total=len(dataloader), desc='Train ')\n",
    "    for step, (images, masks) in pbar:         \n",
    "        images = images.to(device, dtype=torch.float)\n",
    "        masks  = masks.to(device, dtype=torch.float)\n",
    "        \n",
    "        batch_size = images.size(0)\n",
    "        \n",
    "        with amp.autocast(enabled=True):\n",
    "            y_pred = model(images)\n",
    "            loss   = criterion(y_pred, masks)\n",
    "        \n",
    "        losses.update(loss.item(), batch_size)\n",
    "        \n",
    "        scaler.scale(loss).backward()\n",
    "        scaler.step(optimizer)\n",
    "        scaler.update()\n",
    "        optimizer.zero_grad()\n",
    "        \n",
    "        scheduler.step()\n",
    "        \n",
    "        mem = torch.cuda.memory_reserved() / 1E9 if torch.cuda.is_available() else 0\n",
    "        current_lr = optimizer.param_groups[0]['lr']\n",
    "        pbar.set_postfix(train_loss=f'{losses.avg:0.4f}',\n",
    "                        lr=f'{current_lr:0.5f}',\n",
    "                        gpu_mem=f'{mem:0.2f} GB')\n",
    "        \n",
    "    torch.cuda.empty_cache()\n",
    "    gc.collect()\n",
    "    \n",
    "    return losses.avg"
   ]
  },
  {
   "cell_type": "code",
   "execution_count": 26,
   "id": "7c5a1243",
   "metadata": {
    "execution": {
     "iopub.execute_input": "2022-06-28T03:08:19.583666Z",
     "iopub.status.busy": "2022-06-28T03:08:19.582846Z",
     "iopub.status.idle": "2022-06-28T03:08:19.593681Z",
     "shell.execute_reply": "2022-06-28T03:08:19.592845Z"
    },
    "papermill": {
     "duration": 0.027777,
     "end_time": "2022-06-28T03:08:19.595573",
     "exception": false,
     "start_time": "2022-06-28T03:08:19.567796",
     "status": "completed"
    },
    "tags": []
   },
   "outputs": [],
   "source": [
    "@torch.no_grad()\n",
    "def valid_fn(model, dataloader, criterion, epoch, device):\n",
    "    \n",
    "    model.eval()\n",
    "    \n",
    "    losses = AverageMeter()\n",
    "    dice_coefs = AverageMeter()\n",
    "    iou_coefs = AverageMeter()\n",
    "    \n",
    "    pbar = tqdm(enumerate(dataloader), total=len(dataloader), desc='Valid ')\n",
    "    for step, (images, masks) in pbar:        \n",
    "        images  = images.to(device, dtype=torch.float)\n",
    "        masks   = masks.to(device, dtype=torch.float)\n",
    "        \n",
    "        batch_size = images.size(0)\n",
    "        \n",
    "        y_pred  = model(images)\n",
    "        loss    = criterion(y_pred, masks)\n",
    "        \n",
    "        losses.update(loss.item(), batch_size)\n",
    "        y_pred = nn.Sigmoid()(y_pred)\n",
    "        val_dice = dice_coef(masks, y_pred).cpu().detach().numpy()\n",
    "        val_jaccard = iou_coef(masks, y_pred).cpu().detach().numpy()\n",
    "        dice_coefs.update(val_dice, batch_size)\n",
    "        iou_coefs.update(val_jaccard, batch_size)\n",
    "        \n",
    "        mem = torch.cuda.memory_reserved() / 1E9 if torch.cuda.is_available() else 0\n",
    "        current_lr = optimizer.param_groups[0]['lr']\n",
    "        pbar.set_postfix(valid_loss=f'{losses.avg:0.4f}',\n",
    "                        lr=f'{current_lr:0.5f}',\n",
    "                        gpu_memory=f'{mem:0.2f} GB')\n",
    "    \n",
    "    \n",
    "    torch.cuda.empty_cache()\n",
    "    gc.collect()\n",
    "    \n",
    "    return losses.avg, dice_coefs.avg, iou_coefs.avg\n",
    "    "
   ]
  },
  {
   "cell_type": "code",
   "execution_count": 27,
   "id": "77acd120",
   "metadata": {
    "execution": {
     "iopub.execute_input": "2022-06-28T03:08:19.624570Z",
     "iopub.status.busy": "2022-06-28T03:08:19.624322Z",
     "iopub.status.idle": "2022-06-28T03:08:19.633812Z",
     "shell.execute_reply": "2022-06-28T03:08:19.632914Z"
    },
    "papermill": {
     "duration": 0.026252,
     "end_time": "2022-06-28T03:08:19.635771",
     "exception": false,
     "start_time": "2022-06-28T03:08:19.609519",
     "status": "completed"
    },
    "tags": []
   },
   "outputs": [],
   "source": [
    "def train_loop(model, train_loader, valid_loader, criterion, optimizer, scheduler, epochs):\n",
    "    \n",
    "    history = {'Train Loss':[], 'Valid Loss':[], 'Valid Dice':[], 'Valid Jaccard':[]}\n",
    "    start = time.time()\n",
    "    \n",
    "    best_score = -np.inf\n",
    "    for epoch in range(epochs):\n",
    "        gc.collect()\n",
    "        torch.cuda.empty_cache()\n",
    "        \n",
    "        train_loss = train_fn(model, train_loader, criterion, optimizer, scheduler, epoch, CFG.device)\n",
    "        val_loss, val_dice, val_jaccard = valid_fn(model, valid_loader, criterion, epoch, CFG.device)\n",
    "        \n",
    "        history['Train Loss'].append(train_loss)\n",
    "        history['Valid Loss'].append(val_loss)\n",
    "        history['Valid Dice'].append(val_dice)\n",
    "        history['Valid Jaccard'].append(val_jaccard)\n",
    "        \n",
    "        print(f'Epoch {epoch + 1}', end = \": \")\n",
    "        print(f'Train Loss: {train_loss:.4f} | Valid Loss: {val_loss:.4f} | Dice: {val_dice:0.4f} | Jaccard: {val_jaccard:0.4f}')\n",
    "        \n",
    "        if val_dice >= best_score:\n",
    "            print(f'Score Improved {best_score:.4f} ---> {val_dice:.4f}')\n",
    "            best_score = val_dice\n",
    "            torch.save(model.state_dict(), \"best_model_4.pt\")\n",
    "            \n",
    "    end = time.time()\n",
    "    time_elapsed = end - start\n",
    "    \n",
    "    print('Training complete in {:.0f}h {:.0f}m {:.0f}s'.format(\n",
    "        time_elapsed // 3600, (time_elapsed % 3600) // 60, (time_elapsed % 3600) % 60))\n",
    "    "
   ]
  },
  {
   "cell_type": "code",
   "execution_count": 28,
   "id": "f82624b6",
   "metadata": {
    "execution": {
     "iopub.execute_input": "2022-06-28T03:08:19.665528Z",
     "iopub.status.busy": "2022-06-28T03:08:19.665274Z",
     "iopub.status.idle": "2022-06-28T03:08:21.436943Z",
     "shell.execute_reply": "2022-06-28T03:08:21.435917Z"
    },
    "papermill": {
     "duration": 1.78909,
     "end_time": "2022-06-28T03:08:21.439307",
     "exception": false,
     "start_time": "2022-06-28T03:08:19.650217",
     "status": "completed"
    },
    "tags": []
   },
   "outputs": [
    {
     "name": "stderr",
     "output_type": "stream",
     "text": [
      "Downloading: \"https://github.com/lukemelas/EfficientNet-PyTorch/releases/download/1.0/efficientnet-b1-f1951068.pth\" to /root/.cache/torch/hub/checkpoints/efficientnet-b1-f1951068.pth\n"
     ]
    },
    {
     "data": {
      "application/vnd.jupyter.widget-view+json": {
       "model_id": "09b6576959944bb8974e57b5f24ebf94",
       "version_major": 2,
       "version_minor": 0
      },
      "text/plain": [
       "  0%|          | 0.00/30.1M [00:00<?, ?B/s]"
      ]
     },
     "metadata": {},
     "output_type": "display_data"
    }
   ],
   "source": [
    "model = build_model()\n",
    "optimizer = Adam(model.parameters(), lr=CFG.lr, weight_decay=CFG.wd)\n",
    "scheduler = CosineAnnealingLR(optimizer, T_max=CFG.T_max, eta_min=CFG.min_lr)\n",
    "train_loader, valid_loader = prepare_loaders(fold=4)"
   ]
  },
  {
   "cell_type": "code",
   "execution_count": 29,
   "id": "b6466029",
   "metadata": {
    "execution": {
     "iopub.execute_input": "2022-06-28T03:08:21.469887Z",
     "iopub.status.busy": "2022-06-28T03:08:21.469577Z",
     "iopub.status.idle": "2022-06-28T06:14:20.266956Z",
     "shell.execute_reply": "2022-06-28T06:14:20.265938Z"
    },
    "papermill": {
     "duration": 11158.815148,
     "end_time": "2022-06-28T06:14:20.269217",
     "exception": false,
     "start_time": "2022-06-28T03:08:21.454069",
     "status": "completed"
    },
    "tags": []
   },
   "outputs": [
    {
     "name": "stderr",
     "output_type": "stream",
     "text": [
      "Train : 100%|██████████| 246/246 [11:18<00:00,  2.76s/it, gpu_mem=14.37 GB, lr=0.00198, train_loss=0.3556]\n",
      "Valid : 100%|██████████| 28/28 [01:10<00:00,  2.54s/it, gpu_memory=9.17 GB, lr=0.00198, valid_loss=0.3539]\n"
     ]
    },
    {
     "name": "stdout",
     "output_type": "stream",
     "text": [
      "Epoch 1: Train Loss: 0.3556 | Valid Loss: 0.3539 | Dice: 0.7045 | Jaccard: 0.6780\n",
      "Score Improved -inf ---> 0.7045\n"
     ]
    },
    {
     "name": "stderr",
     "output_type": "stream",
     "text": [
      "Train : 100%|██████████| 246/246 [11:05<00:00,  2.70s/it, gpu_mem=14.42 GB, lr=0.00191, train_loss=0.1670]\n",
      "Valid : 100%|██████████| 28/28 [01:10<00:00,  2.52s/it, gpu_memory=9.17 GB, lr=0.00191, valid_loss=0.2838]\n"
     ]
    },
    {
     "name": "stdout",
     "output_type": "stream",
     "text": [
      "Epoch 2: Train Loss: 0.1670 | Valid Loss: 0.2838 | Dice: 0.6387 | Jaccard: 0.6058\n"
     ]
    },
    {
     "name": "stderr",
     "output_type": "stream",
     "text": [
      "Train : 100%|██████████| 246/246 [11:08<00:00,  2.72s/it, gpu_mem=14.42 GB, lr=0.00180, train_loss=0.1299]\n",
      "Valid : 100%|██████████| 28/28 [01:11<00:00,  2.56s/it, gpu_memory=9.17 GB, lr=0.00180, valid_loss=0.1701]\n"
     ]
    },
    {
     "name": "stdout",
     "output_type": "stream",
     "text": [
      "Epoch 3: Train Loss: 0.1299 | Valid Loss: 0.1701 | Dice: 0.8524 | Jaccard: 0.8221\n",
      "Score Improved 0.7045 ---> 0.8524\n"
     ]
    },
    {
     "name": "stderr",
     "output_type": "stream",
     "text": [
      "Train : 100%|██████████| 246/246 [11:11<00:00,  2.73s/it, gpu_mem=14.42 GB, lr=0.00165, train_loss=0.1205]\n",
      "Valid : 100%|██████████| 28/28 [01:13<00:00,  2.61s/it, gpu_memory=9.17 GB, lr=0.00165, valid_loss=0.1543]\n"
     ]
    },
    {
     "name": "stdout",
     "output_type": "stream",
     "text": [
      "Epoch 4: Train Loss: 0.1205 | Valid Loss: 0.1543 | Dice: 0.8724 | Jaccard: 0.8431\n",
      "Score Improved 0.8524 ---> 0.8724\n"
     ]
    },
    {
     "name": "stderr",
     "output_type": "stream",
     "text": [
      "Train : 100%|██████████| 246/246 [11:11<00:00,  2.73s/it, gpu_mem=14.42 GB, lr=0.00147, train_loss=0.1103]\n",
      "Valid : 100%|██████████| 28/28 [01:12<00:00,  2.57s/it, gpu_memory=9.17 GB, lr=0.00147, valid_loss=0.1473]\n"
     ]
    },
    {
     "name": "stdout",
     "output_type": "stream",
     "text": [
      "Epoch 5: Train Loss: 0.1103 | Valid Loss: 0.1473 | Dice: 0.8813 | Jaccard: 0.8518\n",
      "Score Improved 0.8724 ---> 0.8813\n"
     ]
    },
    {
     "name": "stderr",
     "output_type": "stream",
     "text": [
      "Train : 100%|██████████| 246/246 [11:11<00:00,  2.73s/it, gpu_mem=14.42 GB, lr=0.00127, train_loss=0.1066]\n",
      "Valid : 100%|██████████| 28/28 [01:11<00:00,  2.56s/it, gpu_memory=9.17 GB, lr=0.00127, valid_loss=0.1496]\n"
     ]
    },
    {
     "name": "stdout",
     "output_type": "stream",
     "text": [
      "Epoch 6: Train Loss: 0.1066 | Valid Loss: 0.1496 | Dice: 0.8743 | Jaccard: 0.8446\n"
     ]
    },
    {
     "name": "stderr",
     "output_type": "stream",
     "text": [
      "Train : 100%|██████████| 246/246 [10:53<00:00,  2.65s/it, gpu_mem=14.42 GB, lr=0.00105, train_loss=0.1009]\n",
      "Valid : 100%|██████████| 28/28 [01:10<00:00,  2.52s/it, gpu_memory=9.17 GB, lr=0.00105, valid_loss=0.1352]\n"
     ]
    },
    {
     "name": "stdout",
     "output_type": "stream",
     "text": [
      "Epoch 7: Train Loss: 0.1009 | Valid Loss: 0.1352 | Dice: 0.8906 | Jaccard: 0.8616\n",
      "Score Improved 0.8813 ---> 0.8906\n"
     ]
    },
    {
     "name": "stderr",
     "output_type": "stream",
     "text": [
      "Train : 100%|██████████| 246/246 [11:00<00:00,  2.68s/it, gpu_mem=14.42 GB, lr=0.00084, train_loss=0.0960]\n",
      "Valid : 100%|██████████| 28/28 [01:12<00:00,  2.59s/it, gpu_memory=9.17 GB, lr=0.00084, valid_loss=0.1404]\n"
     ]
    },
    {
     "name": "stdout",
     "output_type": "stream",
     "text": [
      "Epoch 8: Train Loss: 0.0960 | Valid Loss: 0.1404 | Dice: 0.8918 | Jaccard: 0.8632\n",
      "Score Improved 0.8906 ---> 0.8918\n"
     ]
    },
    {
     "name": "stderr",
     "output_type": "stream",
     "text": [
      "Train : 100%|██████████| 246/246 [11:09<00:00,  2.72s/it, gpu_mem=14.42 GB, lr=0.00063, train_loss=0.0917]\n",
      "Valid : 100%|██████████| 28/28 [01:11<00:00,  2.56s/it, gpu_memory=9.17 GB, lr=0.00063, valid_loss=0.1337]\n"
     ]
    },
    {
     "name": "stdout",
     "output_type": "stream",
     "text": [
      "Epoch 9: Train Loss: 0.0917 | Valid Loss: 0.1337 | Dice: 0.8930 | Jaccard: 0.8644\n",
      "Score Improved 0.8918 ---> 0.8930\n"
     ]
    },
    {
     "name": "stderr",
     "output_type": "stream",
     "text": [
      "Train : 100%|██████████| 246/246 [11:19<00:00,  2.76s/it, gpu_mem=14.42 GB, lr=0.00044, train_loss=0.0871]\n",
      "Valid : 100%|██████████| 28/28 [01:12<00:00,  2.60s/it, gpu_memory=9.17 GB, lr=0.00044, valid_loss=0.1323]\n"
     ]
    },
    {
     "name": "stdout",
     "output_type": "stream",
     "text": [
      "Epoch 10: Train Loss: 0.0871 | Valid Loss: 0.1323 | Dice: 0.8942 | Jaccard: 0.8652\n",
      "Score Improved 0.8930 ---> 0.8942\n"
     ]
    },
    {
     "name": "stderr",
     "output_type": "stream",
     "text": [
      "Train : 100%|██████████| 246/246 [11:08<00:00,  2.72s/it, gpu_mem=14.42 GB, lr=0.00027, train_loss=0.0846]\n",
      "Valid : 100%|██████████| 28/28 [01:12<00:00,  2.60s/it, gpu_memory=9.17 GB, lr=0.00027, valid_loss=0.1272]\n"
     ]
    },
    {
     "name": "stdout",
     "output_type": "stream",
     "text": [
      "Epoch 11: Train Loss: 0.0846 | Valid Loss: 0.1272 | Dice: 0.8984 | Jaccard: 0.8700\n",
      "Score Improved 0.8942 ---> 0.8984\n"
     ]
    },
    {
     "name": "stderr",
     "output_type": "stream",
     "text": [
      "Train : 100%|██████████| 246/246 [11:09<00:00,  2.72s/it, gpu_mem=14.42 GB, lr=0.00014, train_loss=0.0814]\n",
      "Valid : 100%|██████████| 28/28 [01:12<00:00,  2.59s/it, gpu_memory=9.17 GB, lr=0.00014, valid_loss=0.1281]\n"
     ]
    },
    {
     "name": "stdout",
     "output_type": "stream",
     "text": [
      "Epoch 12: Train Loss: 0.0814 | Valid Loss: 0.1281 | Dice: 0.8999 | Jaccard: 0.8717\n",
      "Score Improved 0.8984 ---> 0.8999\n"
     ]
    },
    {
     "name": "stderr",
     "output_type": "stream",
     "text": [
      "Train : 100%|██████████| 246/246 [11:14<00:00,  2.74s/it, gpu_mem=14.42 GB, lr=0.00005, train_loss=0.0801]\n",
      "Valid : 100%|██████████| 28/28 [01:12<00:00,  2.60s/it, gpu_memory=9.17 GB, lr=0.00005, valid_loss=0.1273]\n"
     ]
    },
    {
     "name": "stdout",
     "output_type": "stream",
     "text": [
      "Epoch 13: Train Loss: 0.0801 | Valid Loss: 0.1273 | Dice: 0.9019 | Jaccard: 0.8738\n",
      "Score Improved 0.8999 ---> 0.9019\n"
     ]
    },
    {
     "name": "stderr",
     "output_type": "stream",
     "text": [
      "Train : 100%|██████████| 246/246 [11:06<00:00,  2.71s/it, gpu_mem=14.42 GB, lr=0.00001, train_loss=0.0787]\n",
      "Valid : 100%|██████████| 28/28 [01:12<00:00,  2.60s/it, gpu_memory=9.17 GB, lr=0.00001, valid_loss=0.1284]\n"
     ]
    },
    {
     "name": "stdout",
     "output_type": "stream",
     "text": [
      "Epoch 14: Train Loss: 0.0787 | Valid Loss: 0.1284 | Dice: 0.9007 | Jaccard: 0.8727\n"
     ]
    },
    {
     "name": "stderr",
     "output_type": "stream",
     "text": [
      "Train : 100%|██████████| 246/246 [11:27<00:00,  2.80s/it, gpu_mem=14.42 GB, lr=0.00001, train_loss=0.0783]\n",
      "Valid : 100%|██████████| 28/28 [01:14<00:00,  2.65s/it, gpu_memory=9.17 GB, lr=0.00001, valid_loss=0.1281]\n"
     ]
    },
    {
     "name": "stdout",
     "output_type": "stream",
     "text": [
      "Epoch 15: Train Loss: 0.0783 | Valid Loss: 0.1281 | Dice: 0.9008 | Jaccard: 0.8728\n",
      "Training complete in 3h 5m 59s\n"
     ]
    }
   ],
   "source": [
    "train_loop(model, train_loader, valid_loader, criterion, optimizer, scheduler, CFG.epochs)"
   ]
  },
  {
   "cell_type": "code",
   "execution_count": null,
   "id": "41f93c34",
   "metadata": {
    "papermill": {
     "duration": 0.511784,
     "end_time": "2022-06-28T06:14:21.292061",
     "exception": false,
     "start_time": "2022-06-28T06:14:20.780277",
     "status": "completed"
    },
    "tags": []
   },
   "outputs": [],
   "source": []
  }
 ],
 "metadata": {
  "kernelspec": {
   "display_name": "Python 3",
   "language": "python",
   "name": "python3"
  },
  "language_info": {
   "codemirror_mode": {
    "name": "ipython",
    "version": 3
   },
   "file_extension": ".py",
   "mimetype": "text/x-python",
   "name": "python",
   "nbconvert_exporter": "python",
   "pygments_lexer": "ipython3",
   "version": "3.7.12"
  },
  "papermill": {
   "default_parameters": {},
   "duration": 11228.075206,
   "end_time": "2022-06-28T06:14:26.069303",
   "environment_variables": {},
   "exception": null,
   "input_path": "__notebook__.ipynb",
   "output_path": "__notebook__.ipynb",
   "parameters": {},
   "start_time": "2022-06-28T03:07:17.994097",
   "version": "2.3.4"
  },
  "widgets": {
   "application/vnd.jupyter.widget-state+json": {
    "state": {
     "09a1599e06d548ebbc439fe4bc08e9f5": {
      "model_module": "@jupyter-widgets/controls",
      "model_module_version": "1.5.0",
      "model_name": "HTMLModel",
      "state": {
       "_dom_classes": [],
       "_model_module": "@jupyter-widgets/controls",
       "_model_module_version": "1.5.0",
       "_model_name": "HTMLModel",
       "_view_count": null,
       "_view_module": "@jupyter-widgets/controls",
       "_view_module_version": "1.5.0",
       "_view_name": "HTMLView",
       "description": "",
       "description_tooltip": null,
       "layout": "IPY_MODEL_29bcdc5447244c2eab8c3ee21b157d52",
       "placeholder": "​",
       "style": "IPY_MODEL_8560f6aa40e442baa8d099f075aff446",
       "value": " 30.1M/30.1M [00:00&lt;00:00, 33.3MB/s]"
      }
     },
     "09b6576959944bb8974e57b5f24ebf94": {
      "model_module": "@jupyter-widgets/controls",
      "model_module_version": "1.5.0",
      "model_name": "HBoxModel",
      "state": {
       "_dom_classes": [],
       "_model_module": "@jupyter-widgets/controls",
       "_model_module_version": "1.5.0",
       "_model_name": "HBoxModel",
       "_view_count": null,
       "_view_module": "@jupyter-widgets/controls",
       "_view_module_version": "1.5.0",
       "_view_name": "HBoxView",
       "box_style": "",
       "children": [
        "IPY_MODEL_c2df8c8f75104a75b6454bb728453044",
        "IPY_MODEL_24c4d58b8f144b15a621ea5e99fe8ed2",
        "IPY_MODEL_09a1599e06d548ebbc439fe4bc08e9f5"
       ],
       "layout": "IPY_MODEL_78c2efd81eb54f41a5c50db91d9f5106"
      }
     },
     "24c4d58b8f144b15a621ea5e99fe8ed2": {
      "model_module": "@jupyter-widgets/controls",
      "model_module_version": "1.5.0",
      "model_name": "FloatProgressModel",
      "state": {
       "_dom_classes": [],
       "_model_module": "@jupyter-widgets/controls",
       "_model_module_version": "1.5.0",
       "_model_name": "FloatProgressModel",
       "_view_count": null,
       "_view_module": "@jupyter-widgets/controls",
       "_view_module_version": "1.5.0",
       "_view_name": "ProgressView",
       "bar_style": "success",
       "description": "",
       "description_tooltip": null,
       "layout": "IPY_MODEL_bb73b861f75649a4bf04644feec76cb4",
       "max": 31519111.0,
       "min": 0.0,
       "orientation": "horizontal",
       "style": "IPY_MODEL_e421179ae9e34d1782783d6fcbcd4ab6",
       "value": 31519111.0
      }
     },
     "29bcdc5447244c2eab8c3ee21b157d52": {
      "model_module": "@jupyter-widgets/base",
      "model_module_version": "1.2.0",
      "model_name": "LayoutModel",
      "state": {
       "_model_module": "@jupyter-widgets/base",
       "_model_module_version": "1.2.0",
       "_model_name": "LayoutModel",
       "_view_count": null,
       "_view_module": "@jupyter-widgets/base",
       "_view_module_version": "1.2.0",
       "_view_name": "LayoutView",
       "align_content": null,
       "align_items": null,
       "align_self": null,
       "border": null,
       "bottom": null,
       "display": null,
       "flex": null,
       "flex_flow": null,
       "grid_area": null,
       "grid_auto_columns": null,
       "grid_auto_flow": null,
       "grid_auto_rows": null,
       "grid_column": null,
       "grid_gap": null,
       "grid_row": null,
       "grid_template_areas": null,
       "grid_template_columns": null,
       "grid_template_rows": null,
       "height": null,
       "justify_content": null,
       "justify_items": null,
       "left": null,
       "margin": null,
       "max_height": null,
       "max_width": null,
       "min_height": null,
       "min_width": null,
       "object_fit": null,
       "object_position": null,
       "order": null,
       "overflow": null,
       "overflow_x": null,
       "overflow_y": null,
       "padding": null,
       "right": null,
       "top": null,
       "visibility": null,
       "width": null
      }
     },
     "78c2efd81eb54f41a5c50db91d9f5106": {
      "model_module": "@jupyter-widgets/base",
      "model_module_version": "1.2.0",
      "model_name": "LayoutModel",
      "state": {
       "_model_module": "@jupyter-widgets/base",
       "_model_module_version": "1.2.0",
       "_model_name": "LayoutModel",
       "_view_count": null,
       "_view_module": "@jupyter-widgets/base",
       "_view_module_version": "1.2.0",
       "_view_name": "LayoutView",
       "align_content": null,
       "align_items": null,
       "align_self": null,
       "border": null,
       "bottom": null,
       "display": null,
       "flex": null,
       "flex_flow": null,
       "grid_area": null,
       "grid_auto_columns": null,
       "grid_auto_flow": null,
       "grid_auto_rows": null,
       "grid_column": null,
       "grid_gap": null,
       "grid_row": null,
       "grid_template_areas": null,
       "grid_template_columns": null,
       "grid_template_rows": null,
       "height": null,
       "justify_content": null,
       "justify_items": null,
       "left": null,
       "margin": null,
       "max_height": null,
       "max_width": null,
       "min_height": null,
       "min_width": null,
       "object_fit": null,
       "object_position": null,
       "order": null,
       "overflow": null,
       "overflow_x": null,
       "overflow_y": null,
       "padding": null,
       "right": null,
       "top": null,
       "visibility": null,
       "width": null
      }
     },
     "819797af1d4f4af4a4778442bcbb5301": {
      "model_module": "@jupyter-widgets/controls",
      "model_module_version": "1.5.0",
      "model_name": "DescriptionStyleModel",
      "state": {
       "_model_module": "@jupyter-widgets/controls",
       "_model_module_version": "1.5.0",
       "_model_name": "DescriptionStyleModel",
       "_view_count": null,
       "_view_module": "@jupyter-widgets/base",
       "_view_module_version": "1.2.0",
       "_view_name": "StyleView",
       "description_width": ""
      }
     },
     "8560f6aa40e442baa8d099f075aff446": {
      "model_module": "@jupyter-widgets/controls",
      "model_module_version": "1.5.0",
      "model_name": "DescriptionStyleModel",
      "state": {
       "_model_module": "@jupyter-widgets/controls",
       "_model_module_version": "1.5.0",
       "_model_name": "DescriptionStyleModel",
       "_view_count": null,
       "_view_module": "@jupyter-widgets/base",
       "_view_module_version": "1.2.0",
       "_view_name": "StyleView",
       "description_width": ""
      }
     },
     "bb73b861f75649a4bf04644feec76cb4": {
      "model_module": "@jupyter-widgets/base",
      "model_module_version": "1.2.0",
      "model_name": "LayoutModel",
      "state": {
       "_model_module": "@jupyter-widgets/base",
       "_model_module_version": "1.2.0",
       "_model_name": "LayoutModel",
       "_view_count": null,
       "_view_module": "@jupyter-widgets/base",
       "_view_module_version": "1.2.0",
       "_view_name": "LayoutView",
       "align_content": null,
       "align_items": null,
       "align_self": null,
       "border": null,
       "bottom": null,
       "display": null,
       "flex": null,
       "flex_flow": null,
       "grid_area": null,
       "grid_auto_columns": null,
       "grid_auto_flow": null,
       "grid_auto_rows": null,
       "grid_column": null,
       "grid_gap": null,
       "grid_row": null,
       "grid_template_areas": null,
       "grid_template_columns": null,
       "grid_template_rows": null,
       "height": null,
       "justify_content": null,
       "justify_items": null,
       "left": null,
       "margin": null,
       "max_height": null,
       "max_width": null,
       "min_height": null,
       "min_width": null,
       "object_fit": null,
       "object_position": null,
       "order": null,
       "overflow": null,
       "overflow_x": null,
       "overflow_y": null,
       "padding": null,
       "right": null,
       "top": null,
       "visibility": null,
       "width": null
      }
     },
     "c2df8c8f75104a75b6454bb728453044": {
      "model_module": "@jupyter-widgets/controls",
      "model_module_version": "1.5.0",
      "model_name": "HTMLModel",
      "state": {
       "_dom_classes": [],
       "_model_module": "@jupyter-widgets/controls",
       "_model_module_version": "1.5.0",
       "_model_name": "HTMLModel",
       "_view_count": null,
       "_view_module": "@jupyter-widgets/controls",
       "_view_module_version": "1.5.0",
       "_view_name": "HTMLView",
       "description": "",
       "description_tooltip": null,
       "layout": "IPY_MODEL_ef0d85596a2a48b8b31007a561c5f296",
       "placeholder": "​",
       "style": "IPY_MODEL_819797af1d4f4af4a4778442bcbb5301",
       "value": "100%"
      }
     },
     "e421179ae9e34d1782783d6fcbcd4ab6": {
      "model_module": "@jupyter-widgets/controls",
      "model_module_version": "1.5.0",
      "model_name": "ProgressStyleModel",
      "state": {
       "_model_module": "@jupyter-widgets/controls",
       "_model_module_version": "1.5.0",
       "_model_name": "ProgressStyleModel",
       "_view_count": null,
       "_view_module": "@jupyter-widgets/base",
       "_view_module_version": "1.2.0",
       "_view_name": "StyleView",
       "bar_color": null,
       "description_width": ""
      }
     },
     "ef0d85596a2a48b8b31007a561c5f296": {
      "model_module": "@jupyter-widgets/base",
      "model_module_version": "1.2.0",
      "model_name": "LayoutModel",
      "state": {
       "_model_module": "@jupyter-widgets/base",
       "_model_module_version": "1.2.0",
       "_model_name": "LayoutModel",
       "_view_count": null,
       "_view_module": "@jupyter-widgets/base",
       "_view_module_version": "1.2.0",
       "_view_name": "LayoutView",
       "align_content": null,
       "align_items": null,
       "align_self": null,
       "border": null,
       "bottom": null,
       "display": null,
       "flex": null,
       "flex_flow": null,
       "grid_area": null,
       "grid_auto_columns": null,
       "grid_auto_flow": null,
       "grid_auto_rows": null,
       "grid_column": null,
       "grid_gap": null,
       "grid_row": null,
       "grid_template_areas": null,
       "grid_template_columns": null,
       "grid_template_rows": null,
       "height": null,
       "justify_content": null,
       "justify_items": null,
       "left": null,
       "margin": null,
       "max_height": null,
       "max_width": null,
       "min_height": null,
       "min_width": null,
       "object_fit": null,
       "object_position": null,
       "order": null,
       "overflow": null,
       "overflow_x": null,
       "overflow_y": null,
       "padding": null,
       "right": null,
       "top": null,
       "visibility": null,
       "width": null
      }
     }
    },
    "version_major": 2,
    "version_minor": 0
   }
  }
 },
 "nbformat": 4,
 "nbformat_minor": 5
}
